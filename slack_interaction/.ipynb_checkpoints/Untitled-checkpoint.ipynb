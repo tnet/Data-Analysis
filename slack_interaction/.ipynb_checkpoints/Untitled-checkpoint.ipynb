{
 "cells": [
  {
   "cell_type": "code",
   "execution_count": 1,
   "metadata": {
    "ExecuteTime": {
     "end_time": "2018-12-08T22:16:34.271235Z",
     "start_time": "2018-12-08T22:16:32.851241Z"
    }
   },
   "outputs": [],
   "source": [
    "# Standard data science libraries\n",
    "import pandas as pd\n",
    "import numpy as np\n",
    "from scipy import stats\n",
    "import featuretools as ft\n",
    "\n",
    "# Visualization\n",
    "import matplotlib.pyplot as plt\n",
    "import seaborn as sns\n",
    "plt.style.use('bmh')\n",
    "\n",
    "# Options for pandas\n",
    "pd.options.display.max_columns = 20\n",
    "\n",
    "# Display all cell outputs\n",
    "from IPython.core.interactiveshell import InteractiveShell\n",
    "InteractiveShell.ast_node_interactivity = 'all'\n"
   ]
  },
  {
   "cell_type": "code",
   "execution_count": 2,
   "metadata": {
    "ExecuteTime": {
     "end_time": "2018-12-08T22:18:07.549300Z",
     "start_time": "2018-12-08T22:18:07.541779Z"
    }
   },
   "outputs": [],
   "source": [
    "from IPython.core.magic import (Magics, magics_class, line_magic,\n",
    "                                cell_magic, line_cell_magic)\n",
    "\n",
    "# The class MUST call this class decorator at creation time\n",
    "@magics_class\n",
    "class MyMagics(Magics):\n",
    "\n",
    "    @line_magic\n",
    "    def lmagic(self, line):\n",
    "        \"my line magic\"\n",
    "        print(\"Full access to the main IPython object:\", self.shell)\n",
    "        print(\"Variables in the user namespace:\", list(self.shell.user_ns.keys()))\n",
    "        return line\n",
    "\n",
    "    @cell_magic\n",
    "    def cmagic(self, line, cell):\n",
    "        \"my cell magic\"\n",
    "        return line, cell\n",
    "\n",
    "    @line_cell_magic\n",
    "    def lcmagic(self, line, cell=None):\n",
    "        \"Magic that works both as %lcmagic and as %%lcmagic\"\n",
    "        if cell is None:\n",
    "            print(\"Called as line magic\")\n",
    "            return line\n",
    "        else:\n",
    "            print(\"Called as cell magic\")\n",
    "            return line, cell\n",
    "\n",
    "\n",
    "# In order to actually use these magics, you must register them with a\n",
    "# running IPython.\n",
    "\n",
    "def load_ipython_extension(ipython):\n",
    "    \"\"\"\n",
    "    Any module file that define a function named `load_ipython_extension`\n",
    "    can be loaded via `%load_ext module.path` or be configured to be\n",
    "    autoloaded by IPython at startup time.\n",
    "    \"\"\"\n",
    "    # You can register the class itself without instantiating it.  IPython will\n",
    "    # call the default constructor on it.\n",
    "    ipython.register_magics(MyMagics)"
   ]
  },
  {
   "cell_type": "code",
   "execution_count": 3,
   "metadata": {
    "ExecuteTime": {
     "end_time": "2018-12-08T22:18:31.041735Z",
     "start_time": "2018-12-08T22:18:31.038516Z"
    }
   },
   "outputs": [
    {
     "name": "stderr",
     "output_type": "stream",
     "text": [
      "UsageError: Line magic function `%my_line_magic` not found.\n"
     ]
    }
   ],
   "source": [
    "%my_line_magic"
   ]
  },
  {
   "cell_type": "code",
   "execution_count": null,
   "metadata": {},
   "outputs": [],
   "source": []
  }
 ],
 "metadata": {
  "hide_input": false,
  "kernelspec": {
   "display_name": "Python 3",
   "language": "python",
   "name": "python3"
  },
  "toc": {
   "base_numbering": 1,
   "nav_menu": {},
   "number_sections": true,
   "sideBar": true,
   "skip_h1_title": false,
   "title_cell": "Table of Contents",
   "title_sidebar": "Contents",
   "toc_cell": false,
   "toc_position": {},
   "toc_section_display": true,
   "toc_window_display": false
  },
  "varInspector": {
   "cols": {
    "lenName": 16,
    "lenType": 16,
    "lenVar": 40
   },
   "kernels_config": {
    "python": {
     "delete_cmd_postfix": "",
     "delete_cmd_prefix": "del ",
     "library": "var_list.py",
     "varRefreshCmd": "print(var_dic_list())"
    },
    "r": {
     "delete_cmd_postfix": ") ",
     "delete_cmd_prefix": "rm(",
     "library": "var_list.r",
     "varRefreshCmd": "cat(var_dic_list()) "
    }
   },
   "types_to_exclude": [
    "module",
    "function",
    "builtin_function_or_method",
    "instance",
    "_Feature"
   ],
   "window_display": false
  }
 },
 "nbformat": 4,
 "nbformat_minor": 2
}
